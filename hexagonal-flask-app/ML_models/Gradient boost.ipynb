{
 "cells": [
  {
   "cell_type": "code",
   "execution_count": 5,
   "metadata": {
    "executionInfo": {
     "elapsed": 2344,
     "status": "ok",
     "timestamp": 1651080130817,
     "user": {
      "displayName": "kosala maduwantha",
      "userId": "16970053107414468093"
     },
     "user_tz": -330
    },
    "id": "kVtc1mjrfVBB"
   },
   "outputs": [],
   "source": [
    "## importing libraries\n",
    "import pandas as pd\n",
    "import numpy as np\n",
    "import matplotlib.pyplot as plt\n",
    "import seaborn as sns\n",
    "from sklearn.model_selection import train_test_split#for decision tree object\n",
    "from sklearn.ensemble import GradientBoostingClassifier\n",
    "from sklearn.metrics import classification_report \n",
    "#%matplotlib inline#for encoding"
   ]
  },
  {
   "cell_type": "code",
   "execution_count": 6,
   "metadata": {
    "colab": {
     "base_uri": "https://localhost:8080/"
    },
    "executionInfo": {
     "elapsed": 28418,
     "status": "ok",
     "timestamp": 1651080159224,
     "user": {
      "displayName": "kosala maduwantha",
      "userId": "16970053107414468093"
     },
     "user_tz": -330
    },
    "id": "A52Ll6iHgoGe",
    "outputId": "b8ab982e-2a6b-4955-f34e-e55bf1e9dd73"
   },
   "outputs": [],
   "source": [
    "## mounting the google drive to import the dataset\n",
    "#from google.colab import drive\n",
    "#drive.mount('/content/drive')"
   ]
  },
  {
   "cell_type": "code",
   "execution_count": 7,
   "metadata": {
    "executionInfo": {
     "elapsed": 34,
     "status": "ok",
     "timestamp": 1651080159226,
     "user": {
      "displayName": "kosala maduwantha",
      "userId": "16970053107414468093"
     },
     "user_tz": -330
    },
    "id": "zHsY2YixfVBG"
   },
   "outputs": [],
   "source": [
    "## data loading to python model creation\n",
    "import os\n",
    "data_path = os.path.join(\"../app/data/physical_activity_dataset.csv\")\n",
    "dataset = pd.read_csv(data_path)"
   ]
  },
  {
   "cell_type": "code",
   "execution_count": 8,
   "metadata": {
    "colab": {
     "base_uri": "https://localhost:8080/",
     "height": 288
    },
    "executionInfo": {
     "elapsed": 32,
     "status": "ok",
     "timestamp": 1651080159229,
     "user": {
      "displayName": "kosala maduwantha",
      "userId": "16970053107414468093"
     },
     "user_tz": -330
    },
    "id": "Nr_jQs9AfVBH",
    "outputId": "8c8e4ff0-8b71-4aa3-c61d-dd7147c0ccbb"
   },
   "outputs": [
    {
     "data": {
      "text/html": [
       "<div>\n",
       "<style scoped>\n",
       "    .dataframe tbody tr th:only-of-type {\n",
       "        vertical-align: middle;\n",
       "    }\n",
       "\n",
       "    .dataframe tbody tr th {\n",
       "        vertical-align: top;\n",
       "    }\n",
       "\n",
       "    .dataframe thead th {\n",
       "        text-align: right;\n",
       "    }\n",
       "</style>\n",
       "<table border=\"1\" class=\"dataframe\">\n",
       "  <thead>\n",
       "    <tr style=\"text-align: right;\">\n",
       "      <th></th>\n",
       "      <th>Age</th>\n",
       "      <th>gender</th>\n",
       "      <th>weight</th>\n",
       "      <th>height</th>\n",
       "      <th>BloodPressure</th>\n",
       "      <th>cholestrol</th>\n",
       "      <th>Glucose</th>\n",
       "      <th>diabetes</th>\n",
       "      <th>discomfirt_chest</th>\n",
       "      <th>current_physical_activity_status</th>\n",
       "      <th>family_history_heart_disease</th>\n",
       "      <th>cigerette_consumption</th>\n",
       "      <th>class</th>\n",
       "      <th>Unnamed: 13</th>\n",
       "    </tr>\n",
       "  </thead>\n",
       "  <tbody>\n",
       "    <tr>\n",
       "      <th>0</th>\n",
       "      <td>21.0</td>\n",
       "      <td>female</td>\n",
       "      <td>45.0</td>\n",
       "      <td>175.0</td>\n",
       "      <td>60.0</td>\n",
       "      <td>242.0</td>\n",
       "      <td>109.0</td>\n",
       "      <td>0.0</td>\n",
       "      <td>no</td>\n",
       "      <td>inactive</td>\n",
       "      <td>no</td>\n",
       "      <td>no</td>\n",
       "      <td>2.0</td>\n",
       "      <td>NaN</td>\n",
       "    </tr>\n",
       "    <tr>\n",
       "      <th>1</th>\n",
       "      <td>21.0</td>\n",
       "      <td>male</td>\n",
       "      <td>47.0</td>\n",
       "      <td>175.0</td>\n",
       "      <td>64.0</td>\n",
       "      <td>158.0</td>\n",
       "      <td>118.0</td>\n",
       "      <td>0.0</td>\n",
       "      <td>no</td>\n",
       "      <td>moderate</td>\n",
       "      <td>no</td>\n",
       "      <td>no</td>\n",
       "      <td>1.0</td>\n",
       "      <td>NaN</td>\n",
       "    </tr>\n",
       "    <tr>\n",
       "      <th>2</th>\n",
       "      <td>21.0</td>\n",
       "      <td>female</td>\n",
       "      <td>47.0</td>\n",
       "      <td>159.0</td>\n",
       "      <td>64.0</td>\n",
       "      <td>199.0</td>\n",
       "      <td>115.0</td>\n",
       "      <td>0.0</td>\n",
       "      <td>no</td>\n",
       "      <td>inactive</td>\n",
       "      <td>no</td>\n",
       "      <td>no</td>\n",
       "      <td>1.0</td>\n",
       "      <td>NaN</td>\n",
       "    </tr>\n",
       "    <tr>\n",
       "      <th>3</th>\n",
       "      <td>21.0</td>\n",
       "      <td>female</td>\n",
       "      <td>47.0</td>\n",
       "      <td>160.0</td>\n",
       "      <td>76.0</td>\n",
       "      <td>165.0</td>\n",
       "      <td>99.0</td>\n",
       "      <td>0.0</td>\n",
       "      <td>no</td>\n",
       "      <td>moderate</td>\n",
       "      <td>no</td>\n",
       "      <td>no</td>\n",
       "      <td>1.0</td>\n",
       "      <td>NaN</td>\n",
       "    </tr>\n",
       "    <tr>\n",
       "      <th>4</th>\n",
       "      <td>21.0</td>\n",
       "      <td>male</td>\n",
       "      <td>48.0</td>\n",
       "      <td>164.0</td>\n",
       "      <td>55.0</td>\n",
       "      <td>200.0</td>\n",
       "      <td>80.0</td>\n",
       "      <td>0.0</td>\n",
       "      <td>no</td>\n",
       "      <td>moderate</td>\n",
       "      <td>no</td>\n",
       "      <td>no</td>\n",
       "      <td>2.0</td>\n",
       "      <td>NaN</td>\n",
       "    </tr>\n",
       "  </tbody>\n",
       "</table>\n",
       "</div>"
      ],
      "text/plain": [
       "    Age  gender  weight  height  BloodPressure  cholestrol  Glucose  diabetes  \\\n",
       "0  21.0  female    45.0   175.0           60.0       242.0    109.0       0.0   \n",
       "1  21.0    male    47.0   175.0           64.0       158.0    118.0       0.0   \n",
       "2  21.0  female    47.0   159.0           64.0       199.0    115.0       0.0   \n",
       "3  21.0  female    47.0   160.0           76.0       165.0     99.0       0.0   \n",
       "4  21.0    male    48.0   164.0           55.0       200.0     80.0       0.0   \n",
       "\n",
       "  discomfirt_chest current_physical_activity_status  \\\n",
       "0               no                         inactive   \n",
       "1               no                         moderate   \n",
       "2               no                         inactive   \n",
       "3               no                         moderate   \n",
       "4               no                         moderate   \n",
       "\n",
       "  family_history_heart_disease cigerette_consumption  class  Unnamed: 13  \n",
       "0                           no                    no    2.0          NaN  \n",
       "1                           no                    no    1.0          NaN  \n",
       "2                           no                    no    1.0          NaN  \n",
       "3                           no                    no    1.0          NaN  \n",
       "4                           no                    no    2.0          NaN  "
      ]
     },
     "execution_count": 8,
     "metadata": {},
     "output_type": "execute_result"
    }
   ],
   "source": [
    "## print the initial un preprocessed data\n",
    "dataset.head()"
   ]
  },
  {
   "cell_type": "code",
   "execution_count": 9,
   "metadata": {
    "colab": {
     "base_uri": "https://localhost:8080/"
    },
    "executionInfo": {
     "elapsed": 29,
     "status": "ok",
     "timestamp": 1651080159232,
     "user": {
      "displayName": "kosala maduwantha",
      "userId": "16970053107414468093"
     },
     "user_tz": -330
    },
    "id": "A4c9y2MjfVBH",
    "outputId": "76d24c2f-cfcf-41a5-9a62-050e1d8b9ef3"
   },
   "outputs": [
    {
     "name": "stdout",
     "output_type": "stream",
     "text": [
      "<class 'pandas.core.frame.DataFrame'>\n",
      "RangeIndex: 785 entries, 0 to 784\n",
      "Data columns (total 14 columns):\n",
      " #   Column                            Non-Null Count  Dtype  \n",
      "---  ------                            --------------  -----  \n",
      " 0   Age                               768 non-null    float64\n",
      " 1   gender                            768 non-null    object \n",
      " 2   weight                            768 non-null    float64\n",
      " 3   height                            768 non-null    float64\n",
      " 4   BloodPressure                     768 non-null    float64\n",
      " 5   cholestrol                        758 non-null    float64\n",
      " 6   Glucose                           768 non-null    float64\n",
      " 7   diabetes                          768 non-null    float64\n",
      " 8   discomfirt_chest                  768 non-null    object \n",
      " 9   current_physical_activity_status  768 non-null    object \n",
      " 10  family_history_heart_disease      768 non-null    object \n",
      " 11  cigerette_consumption             768 non-null    object \n",
      " 12  class                             768 non-null    float64\n",
      " 13  Unnamed: 13                       0 non-null      float64\n",
      "dtypes: float64(9), object(5)\n",
      "memory usage: 86.0+ KB\n"
     ]
    }
   ],
   "source": [
    "## getting thr information of the dataset\n",
    "dataset.info()\n"
   ]
  },
  {
   "cell_type": "markdown",
   "metadata": {
    "id": "vU-ru1P8ku9w"
   },
   "source": [
    "\n",
    "\n",
    "---\n",
    "\n",
    "\n",
    "### According to above data description\n",
    "####\n",
    "\n",
    "> * (gender,discomfirt_chest,current_physical_activity_status,family_history_heart_disease,cigerette_consumption,class) are categorical variables\n",
    "\n",
    "\n",
    "\n",
    "> * every other variables except above categorical variables are continous and descrete variables\n",
    "\n",
    "\n",
    "\n",
    "> * there are few null value Rows to be dropped and an unwanted column\n",
    "\n",
    "\n",
    "---\n",
    "\n",
    "\n",
    "\n",
    "\n",
    "\n",
    "\n",
    "\n"
   ]
  },
  {
   "cell_type": "code",
   "execution_count": 10,
   "metadata": {
    "colab": {
     "base_uri": "https://localhost:8080/"
    },
    "executionInfo": {
     "elapsed": 58,
     "status": "ok",
     "timestamp": 1651080160164,
     "user": {
      "displayName": "kosala maduwantha",
      "userId": "16970053107414468093"
     },
     "user_tz": -330
    },
    "id": "z-Tnn07OfVBI",
    "outputId": "5a617aeb-a214-44e3-bbdb-c374e591298c"
   },
   "outputs": [
    {
     "name": "stdout",
     "output_type": "stream",
     "text": [
      "number of rows that has null values :  Age                                 True\n",
      "gender                              True\n",
      "weight                              True\n",
      "height                              True\n",
      "BloodPressure                       True\n",
      "cholestrol                          True\n",
      "Glucose                             True\n",
      "diabetes                            True\n",
      "discomfirt_chest                    True\n",
      "current_physical_activity_status    True\n",
      "family_history_heart_disease        True\n",
      "cigerette_consumption               True\n",
      "class                               True\n",
      "Unnamed: 13                         True\n",
      "dtype: bool\n",
      "nulls are dropped\n"
     ]
    }
   ],
   "source": [
    "## checking weather there are any nulls\n",
    "null_rows = dataset.isnull().any()\n",
    "print(\"number of rows that has null values : \", null_rows)\n",
    "\n",
    "## selecting dataset\n",
    "dataset.drop(dataset.columns[13], axis=1, inplace=True)\n",
    "print(\"nulls are dropped\")"
   ]
  },
  {
   "cell_type": "code",
   "execution_count": 11,
   "metadata": {
    "executionInfo": {
     "elapsed": 56,
     "status": "ok",
     "timestamp": 1651080160166,
     "user": {
      "displayName": "kosala maduwantha",
      "userId": "16970053107414468093"
     },
     "user_tz": -330
    },
    "id": "VAM6vKkbfVBJ"
   },
   "outputs": [],
   "source": [
    "## removing the null values with rows\n",
    "cleaned_dataset = dataset.dropna()"
   ]
  },
  {
   "cell_type": "code",
   "execution_count": 12,
   "metadata": {
    "colab": {
     "base_uri": "https://localhost:8080/"
    },
    "executionInfo": {
     "elapsed": 58,
     "status": "ok",
     "timestamp": 1651080160169,
     "user": {
      "displayName": "kosala maduwantha",
      "userId": "16970053107414468093"
     },
     "user_tz": -330
    },
    "id": "clP-0VWmfVBK",
    "outputId": "a07a3f89-4095-4759-dfe6-d6c28f869fcb"
   },
   "outputs": [
    {
     "name": "stdout",
     "output_type": "stream",
     "text": [
      "<class 'pandas.core.frame.DataFrame'>\n",
      "Index: 758 entries, 0 to 767\n",
      "Data columns (total 13 columns):\n",
      " #   Column                            Non-Null Count  Dtype  \n",
      "---  ------                            --------------  -----  \n",
      " 0   Age                               758 non-null    float64\n",
      " 1   gender                            758 non-null    object \n",
      " 2   weight                            758 non-null    float64\n",
      " 3   height                            758 non-null    float64\n",
      " 4   BloodPressure                     758 non-null    float64\n",
      " 5   cholestrol                        758 non-null    float64\n",
      " 6   Glucose                           758 non-null    float64\n",
      " 7   diabetes                          758 non-null    float64\n",
      " 8   discomfirt_chest                  758 non-null    object \n",
      " 9   current_physical_activity_status  758 non-null    object \n",
      " 10  family_history_heart_disease      758 non-null    object \n",
      " 11  cigerette_consumption             758 non-null    object \n",
      " 12  class                             758 non-null    float64\n",
      "dtypes: float64(8), object(5)\n",
      "memory usage: 82.9+ KB\n"
     ]
    }
   ],
   "source": [
    "## information after removing the null values\n",
    "cleaned_dataset.info()"
   ]
  },
  {
   "cell_type": "code",
   "execution_count": 13,
   "metadata": {
    "colab": {
     "base_uri": "https://localhost:8080/",
     "height": 374
    },
    "executionInfo": {
     "elapsed": 56,
     "status": "ok",
     "timestamp": 1651080160171,
     "user": {
      "displayName": "kosala maduwantha",
      "userId": "16970053107414468093"
     },
     "user_tz": -330
    },
    "id": "-AtoGP4FfVBL",
    "outputId": "56be7376-9077-4a10-f5ae-f52a2e8e8843"
   },
   "outputs": [
    {
     "name": "stderr",
     "output_type": "stream",
     "text": [
      "/tmp/ipykernel_320350/2692323782.py:8: SettingWithCopyWarning: \n",
      "A value is trying to be set on a copy of a slice from a DataFrame.\n",
      "Try using .loc[row_indexer,col_indexer] = value instead\n",
      "\n",
      "See the caveats in the documentation: https://pandas.pydata.org/pandas-docs/stable/user_guide/indexing.html#returning-a-view-versus-a-copy\n",
      "  cleaned_dataset[categorical_columns_enc] = cleaned_dataset[categorical_columns].apply(lambda x: pd.factorize(x)[0])\n",
      "/tmp/ipykernel_320350/2692323782.py:8: SettingWithCopyWarning: \n",
      "A value is trying to be set on a copy of a slice from a DataFrame.\n",
      "Try using .loc[row_indexer,col_indexer] = value instead\n",
      "\n",
      "See the caveats in the documentation: https://pandas.pydata.org/pandas-docs/stable/user_guide/indexing.html#returning-a-view-versus-a-copy\n",
      "  cleaned_dataset[categorical_columns_enc] = cleaned_dataset[categorical_columns].apply(lambda x: pd.factorize(x)[0])\n",
      "/tmp/ipykernel_320350/2692323782.py:8: SettingWithCopyWarning: \n",
      "A value is trying to be set on a copy of a slice from a DataFrame.\n",
      "Try using .loc[row_indexer,col_indexer] = value instead\n",
      "\n",
      "See the caveats in the documentation: https://pandas.pydata.org/pandas-docs/stable/user_guide/indexing.html#returning-a-view-versus-a-copy\n",
      "  cleaned_dataset[categorical_columns_enc] = cleaned_dataset[categorical_columns].apply(lambda x: pd.factorize(x)[0])\n",
      "/tmp/ipykernel_320350/2692323782.py:8: SettingWithCopyWarning: \n",
      "A value is trying to be set on a copy of a slice from a DataFrame.\n",
      "Try using .loc[row_indexer,col_indexer] = value instead\n",
      "\n",
      "See the caveats in the documentation: https://pandas.pydata.org/pandas-docs/stable/user_guide/indexing.html#returning-a-view-versus-a-copy\n",
      "  cleaned_dataset[categorical_columns_enc] = cleaned_dataset[categorical_columns].apply(lambda x: pd.factorize(x)[0])\n",
      "/tmp/ipykernel_320350/2692323782.py:8: SettingWithCopyWarning: \n",
      "A value is trying to be set on a copy of a slice from a DataFrame.\n",
      "Try using .loc[row_indexer,col_indexer] = value instead\n",
      "\n",
      "See the caveats in the documentation: https://pandas.pydata.org/pandas-docs/stable/user_guide/indexing.html#returning-a-view-versus-a-copy\n",
      "  cleaned_dataset[categorical_columns_enc] = cleaned_dataset[categorical_columns].apply(lambda x: pd.factorize(x)[0])\n",
      "/tmp/ipykernel_320350/2692323782.py:8: SettingWithCopyWarning: \n",
      "A value is trying to be set on a copy of a slice from a DataFrame.\n",
      "Try using .loc[row_indexer,col_indexer] = value instead\n",
      "\n",
      "See the caveats in the documentation: https://pandas.pydata.org/pandas-docs/stable/user_guide/indexing.html#returning-a-view-versus-a-copy\n",
      "  cleaned_dataset[categorical_columns_enc] = cleaned_dataset[categorical_columns].apply(lambda x: pd.factorize(x)[0])\n"
     ]
    },
    {
     "data": {
      "text/html": [
       "<div>\n",
       "<style scoped>\n",
       "    .dataframe tbody tr th:only-of-type {\n",
       "        vertical-align: middle;\n",
       "    }\n",
       "\n",
       "    .dataframe tbody tr th {\n",
       "        vertical-align: top;\n",
       "    }\n",
       "\n",
       "    .dataframe thead th {\n",
       "        text-align: right;\n",
       "    }\n",
       "</style>\n",
       "<table border=\"1\" class=\"dataframe\">\n",
       "  <thead>\n",
       "    <tr style=\"text-align: right;\">\n",
       "      <th></th>\n",
       "      <th>Age</th>\n",
       "      <th>gender</th>\n",
       "      <th>weight</th>\n",
       "      <th>height</th>\n",
       "      <th>BloodPressure</th>\n",
       "      <th>cholestrol</th>\n",
       "      <th>Glucose</th>\n",
       "      <th>diabetes</th>\n",
       "      <th>discomfirt_chest</th>\n",
       "      <th>current_physical_activity_status</th>\n",
       "      <th>family_history_heart_disease</th>\n",
       "      <th>cigerette_consumption</th>\n",
       "      <th>class</th>\n",
       "      <th>diabetes_</th>\n",
       "      <th>gender_</th>\n",
       "      <th>discomfirt_chest_</th>\n",
       "      <th>current_physical_activity_status_</th>\n",
       "      <th>family_history_heart_disease_</th>\n",
       "      <th>cigerette_consumption_</th>\n",
       "    </tr>\n",
       "  </thead>\n",
       "  <tbody>\n",
       "    <tr>\n",
       "      <th>0</th>\n",
       "      <td>21.0</td>\n",
       "      <td>female</td>\n",
       "      <td>45.0</td>\n",
       "      <td>175.0</td>\n",
       "      <td>60.0</td>\n",
       "      <td>242.0</td>\n",
       "      <td>109.0</td>\n",
       "      <td>0.0</td>\n",
       "      <td>no</td>\n",
       "      <td>inactive</td>\n",
       "      <td>no</td>\n",
       "      <td>no</td>\n",
       "      <td>2.0</td>\n",
       "      <td>0</td>\n",
       "      <td>0</td>\n",
       "      <td>0</td>\n",
       "      <td>0</td>\n",
       "      <td>0</td>\n",
       "      <td>0</td>\n",
       "    </tr>\n",
       "    <tr>\n",
       "      <th>1</th>\n",
       "      <td>21.0</td>\n",
       "      <td>male</td>\n",
       "      <td>47.0</td>\n",
       "      <td>175.0</td>\n",
       "      <td>64.0</td>\n",
       "      <td>158.0</td>\n",
       "      <td>118.0</td>\n",
       "      <td>0.0</td>\n",
       "      <td>no</td>\n",
       "      <td>moderate</td>\n",
       "      <td>no</td>\n",
       "      <td>no</td>\n",
       "      <td>1.0</td>\n",
       "      <td>0</td>\n",
       "      <td>1</td>\n",
       "      <td>0</td>\n",
       "      <td>1</td>\n",
       "      <td>0</td>\n",
       "      <td>0</td>\n",
       "    </tr>\n",
       "    <tr>\n",
       "      <th>2</th>\n",
       "      <td>21.0</td>\n",
       "      <td>female</td>\n",
       "      <td>47.0</td>\n",
       "      <td>159.0</td>\n",
       "      <td>64.0</td>\n",
       "      <td>199.0</td>\n",
       "      <td>115.0</td>\n",
       "      <td>0.0</td>\n",
       "      <td>no</td>\n",
       "      <td>inactive</td>\n",
       "      <td>no</td>\n",
       "      <td>no</td>\n",
       "      <td>1.0</td>\n",
       "      <td>0</td>\n",
       "      <td>0</td>\n",
       "      <td>0</td>\n",
       "      <td>0</td>\n",
       "      <td>0</td>\n",
       "      <td>0</td>\n",
       "    </tr>\n",
       "    <tr>\n",
       "      <th>3</th>\n",
       "      <td>21.0</td>\n",
       "      <td>female</td>\n",
       "      <td>47.0</td>\n",
       "      <td>160.0</td>\n",
       "      <td>76.0</td>\n",
       "      <td>165.0</td>\n",
       "      <td>99.0</td>\n",
       "      <td>0.0</td>\n",
       "      <td>no</td>\n",
       "      <td>moderate</td>\n",
       "      <td>no</td>\n",
       "      <td>no</td>\n",
       "      <td>1.0</td>\n",
       "      <td>0</td>\n",
       "      <td>0</td>\n",
       "      <td>0</td>\n",
       "      <td>1</td>\n",
       "      <td>0</td>\n",
       "      <td>0</td>\n",
       "    </tr>\n",
       "    <tr>\n",
       "      <th>4</th>\n",
       "      <td>21.0</td>\n",
       "      <td>male</td>\n",
       "      <td>48.0</td>\n",
       "      <td>164.0</td>\n",
       "      <td>55.0</td>\n",
       "      <td>200.0</td>\n",
       "      <td>80.0</td>\n",
       "      <td>0.0</td>\n",
       "      <td>no</td>\n",
       "      <td>moderate</td>\n",
       "      <td>no</td>\n",
       "      <td>no</td>\n",
       "      <td>2.0</td>\n",
       "      <td>0</td>\n",
       "      <td>1</td>\n",
       "      <td>0</td>\n",
       "      <td>1</td>\n",
       "      <td>0</td>\n",
       "      <td>0</td>\n",
       "    </tr>\n",
       "  </tbody>\n",
       "</table>\n",
       "</div>"
      ],
      "text/plain": [
       "    Age  gender  weight  height  BloodPressure  cholestrol  Glucose  diabetes  \\\n",
       "0  21.0  female    45.0   175.0           60.0       242.0    109.0       0.0   \n",
       "1  21.0    male    47.0   175.0           64.0       158.0    118.0       0.0   \n",
       "2  21.0  female    47.0   159.0           64.0       199.0    115.0       0.0   \n",
       "3  21.0  female    47.0   160.0           76.0       165.0     99.0       0.0   \n",
       "4  21.0    male    48.0   164.0           55.0       200.0     80.0       0.0   \n",
       "\n",
       "  discomfirt_chest current_physical_activity_status  \\\n",
       "0               no                         inactive   \n",
       "1               no                         moderate   \n",
       "2               no                         inactive   \n",
       "3               no                         moderate   \n",
       "4               no                         moderate   \n",
       "\n",
       "  family_history_heart_disease cigerette_consumption  class  diabetes_  \\\n",
       "0                           no                    no    2.0          0   \n",
       "1                           no                    no    1.0          0   \n",
       "2                           no                    no    1.0          0   \n",
       "3                           no                    no    1.0          0   \n",
       "4                           no                    no    2.0          0   \n",
       "\n",
       "   gender_  discomfirt_chest_  current_physical_activity_status_  \\\n",
       "0        0                  0                                  0   \n",
       "1        1                  0                                  1   \n",
       "2        0                  0                                  0   \n",
       "3        0                  0                                  1   \n",
       "4        1                  0                                  1   \n",
       "\n",
       "   family_history_heart_disease_  cigerette_consumption_  \n",
       "0                              0                       0  \n",
       "1                              0                       0  \n",
       "2                              0                       0  \n",
       "3                              0                       0  \n",
       "4                              0                       0  "
      ]
     },
     "execution_count": 13,
     "metadata": {},
     "output_type": "execute_result"
    }
   ],
   "source": [
    "## onehot encoding\n",
    "## Data transformation\n",
    "\n",
    "# categorical_columns\n",
    "categorical_columns = [\"diabetes\",\"gender\",\"discomfirt_chest\",\"current_physical_activity_status\",\"family_history_heart_disease\",\"cigerette_consumption\"]\n",
    "categorical_columns_enc = [\"diabetes_\",\"gender_\",\"discomfirt_chest_\",\"current_physical_activity_status_\",\"family_history_heart_disease_\",\"cigerette_consumption_\"]\n",
    "# one hot encoding\n",
    "cleaned_dataset[categorical_columns_enc] = cleaned_dataset[categorical_columns].apply(lambda x: pd.factorize(x)[0])\n",
    "cleaned_dataset.head()"
   ]
  },
  {
   "cell_type": "markdown",
   "metadata": {
    "id": "981qdQy9-ptG"
   },
   "source": [
    "\n",
    "\n",
    "---\n",
    "\n",
    "\n",
    "### *above transformations includes*\n",
    "\n",
    "\n",
    "> * converting categorical values to numerical type \n",
    "\n",
    "\n",
    "---\n",
    "\n",
    "\n",
    "\n"
   ]
  },
  {
   "cell_type": "code",
   "execution_count": 14,
   "metadata": {
    "executionInfo": {
     "elapsed": 47,
     "status": "ok",
     "timestamp": 1651080160172,
     "user": {
      "displayName": "kosala maduwantha",
      "userId": "16970053107414468093"
     },
     "user_tz": -330
    },
    "id": "a8yO-ZG1fVBM"
   },
   "outputs": [],
   "source": [
    "# take data needed for classification model\n",
    "processed_data = cleaned_dataset[[\"Age\",\"gender_\",\"weight\",\"height\",\"BloodPressure\",\"cholestrol\",\"Glucose\",\"diabetes_\",\"discomfirt_chest_\",\n",
    "               \"current_physical_activity_status_\",\"family_history_heart_disease_\",\"cigerette_consumption_\",\"class\"]]"
   ]
  },
  {
   "cell_type": "code",
   "execution_count": 15,
   "metadata": {
    "colab": {
     "base_uri": "https://localhost:8080/",
     "height": 270
    },
    "executionInfo": {
     "elapsed": 48,
     "status": "ok",
     "timestamp": 1651080160174,
     "user": {
      "displayName": "kosala maduwantha",
      "userId": "16970053107414468093"
     },
     "user_tz": -330
    },
    "id": "YwdDszzhfVBN",
    "outputId": "c1c89e47-7e36-45c4-a85b-bcfd3c5583f7"
   },
   "outputs": [
    {
     "data": {
      "text/html": [
       "<div>\n",
       "<style scoped>\n",
       "    .dataframe tbody tr th:only-of-type {\n",
       "        vertical-align: middle;\n",
       "    }\n",
       "\n",
       "    .dataframe tbody tr th {\n",
       "        vertical-align: top;\n",
       "    }\n",
       "\n",
       "    .dataframe thead th {\n",
       "        text-align: right;\n",
       "    }\n",
       "</style>\n",
       "<table border=\"1\" class=\"dataframe\">\n",
       "  <thead>\n",
       "    <tr style=\"text-align: right;\">\n",
       "      <th></th>\n",
       "      <th>Age</th>\n",
       "      <th>gender_</th>\n",
       "      <th>weight</th>\n",
       "      <th>height</th>\n",
       "      <th>BloodPressure</th>\n",
       "      <th>cholestrol</th>\n",
       "      <th>Glucose</th>\n",
       "      <th>diabetes_</th>\n",
       "      <th>discomfirt_chest_</th>\n",
       "      <th>current_physical_activity_status_</th>\n",
       "      <th>family_history_heart_disease_</th>\n",
       "      <th>cigerette_consumption_</th>\n",
       "      <th>class</th>\n",
       "    </tr>\n",
       "  </thead>\n",
       "  <tbody>\n",
       "    <tr>\n",
       "      <th>0</th>\n",
       "      <td>21.0</td>\n",
       "      <td>0</td>\n",
       "      <td>45.0</td>\n",
       "      <td>175.0</td>\n",
       "      <td>60.0</td>\n",
       "      <td>242.0</td>\n",
       "      <td>109.0</td>\n",
       "      <td>0</td>\n",
       "      <td>0</td>\n",
       "      <td>0</td>\n",
       "      <td>0</td>\n",
       "      <td>0</td>\n",
       "      <td>2.0</td>\n",
       "    </tr>\n",
       "    <tr>\n",
       "      <th>1</th>\n",
       "      <td>21.0</td>\n",
       "      <td>1</td>\n",
       "      <td>47.0</td>\n",
       "      <td>175.0</td>\n",
       "      <td>64.0</td>\n",
       "      <td>158.0</td>\n",
       "      <td>118.0</td>\n",
       "      <td>0</td>\n",
       "      <td>0</td>\n",
       "      <td>1</td>\n",
       "      <td>0</td>\n",
       "      <td>0</td>\n",
       "      <td>1.0</td>\n",
       "    </tr>\n",
       "    <tr>\n",
       "      <th>2</th>\n",
       "      <td>21.0</td>\n",
       "      <td>0</td>\n",
       "      <td>47.0</td>\n",
       "      <td>159.0</td>\n",
       "      <td>64.0</td>\n",
       "      <td>199.0</td>\n",
       "      <td>115.0</td>\n",
       "      <td>0</td>\n",
       "      <td>0</td>\n",
       "      <td>0</td>\n",
       "      <td>0</td>\n",
       "      <td>0</td>\n",
       "      <td>1.0</td>\n",
       "    </tr>\n",
       "    <tr>\n",
       "      <th>3</th>\n",
       "      <td>21.0</td>\n",
       "      <td>0</td>\n",
       "      <td>47.0</td>\n",
       "      <td>160.0</td>\n",
       "      <td>76.0</td>\n",
       "      <td>165.0</td>\n",
       "      <td>99.0</td>\n",
       "      <td>0</td>\n",
       "      <td>0</td>\n",
       "      <td>1</td>\n",
       "      <td>0</td>\n",
       "      <td>0</td>\n",
       "      <td>1.0</td>\n",
       "    </tr>\n",
       "    <tr>\n",
       "      <th>4</th>\n",
       "      <td>21.0</td>\n",
       "      <td>1</td>\n",
       "      <td>48.0</td>\n",
       "      <td>164.0</td>\n",
       "      <td>55.0</td>\n",
       "      <td>200.0</td>\n",
       "      <td>80.0</td>\n",
       "      <td>0</td>\n",
       "      <td>0</td>\n",
       "      <td>1</td>\n",
       "      <td>0</td>\n",
       "      <td>0</td>\n",
       "      <td>2.0</td>\n",
       "    </tr>\n",
       "  </tbody>\n",
       "</table>\n",
       "</div>"
      ],
      "text/plain": [
       "    Age  gender_  weight  height  BloodPressure  cholestrol  Glucose  \\\n",
       "0  21.0        0    45.0   175.0           60.0       242.0    109.0   \n",
       "1  21.0        1    47.0   175.0           64.0       158.0    118.0   \n",
       "2  21.0        0    47.0   159.0           64.0       199.0    115.0   \n",
       "3  21.0        0    47.0   160.0           76.0       165.0     99.0   \n",
       "4  21.0        1    48.0   164.0           55.0       200.0     80.0   \n",
       "\n",
       "   diabetes_  discomfirt_chest_  current_physical_activity_status_  \\\n",
       "0          0                  0                                  0   \n",
       "1          0                  0                                  1   \n",
       "2          0                  0                                  0   \n",
       "3          0                  0                                  1   \n",
       "4          0                  0                                  1   \n",
       "\n",
       "   family_history_heart_disease_  cigerette_consumption_  class  \n",
       "0                              0                       0    2.0  \n",
       "1                              0                       0    1.0  \n",
       "2                              0                       0    1.0  \n",
       "3                              0                       0    1.0  \n",
       "4                              0                       0    2.0  "
      ]
     },
     "execution_count": 15,
     "metadata": {},
     "output_type": "execute_result"
    }
   ],
   "source": [
    "processed_data.head()"
   ]
  },
  {
   "cell_type": "code",
   "execution_count": 16,
   "metadata": {
    "colab": {
     "base_uri": "https://localhost:8080/",
     "height": 441
    },
    "executionInfo": {
     "elapsed": 1145,
     "status": "ok",
     "timestamp": 1651080161275,
     "user": {
      "displayName": "kosala maduwantha",
      "userId": "16970053107414468093"
     },
     "user_tz": -330
    },
    "id": "S5u_fkqufVBN",
    "outputId": "211bfbe2-ad47-45a2-c44a-56ef5598bd6d"
   },
   "outputs": [
    {
     "data": {
      "text/plain": [
       "<Axes: >"
      ]
     },
     "execution_count": 16,
     "metadata": {},
     "output_type": "execute_result"
    },
    {
     "data": {
      "image/png": "[encoded data removed]",
      "text/plain": [
       "<Figure size 640x480 with 2 Axes>"
      ]
     },
     "metadata": {},
     "output_type": "display_data"
    }
   ],
   "source": [
    "## get the correlation matrix\n",
    "sns.heatmap(processed_data.corr())"
   ]
  },
  {
   "cell_type": "markdown",
   "metadata": {
    "id": "oFZ9gp3o_Zyf"
   },
   "source": [
    "\n",
    "\n",
    "---\n",
    "\n",
    "\n",
    "### # above codebase is related to preprocessing of data\n",
    "### # next get the dataset ready for the model bulding\n",
    "\n",
    "\n",
    "---\n",
    "\n",
    "\n",
    "### # in order to build the classification model for decision tree\n",
    "\n",
    "\n",
    "> ### # seperating the data for trining and testing data\n",
    "\n",
    "\n",
    "> ### # build the classification model\n",
    "\n",
    "\n",
    "> ### # test the model using testing set\n",
    "\n",
    "\n",
    "> ### # check the accuracy of the model\n",
    "\n",
    "\n",
    "> ### # check if there any overfitting or under fitting and resolve\n",
    "\n",
    "\n",
    "---\n",
    "\n",
    "\n",
    "\n",
    "\n",
    "\n",
    "\n",
    "\n",
    "\n",
    "\n",
    "\n",
    "\n",
    "\n",
    "\n",
    "\n",
    "\n",
    "\n",
    "\n",
    "\n",
    "\n"
   ]
  },
  {
   "cell_type": "code",
   "execution_count": 17,
   "metadata": {
    "executionInfo": {
     "elapsed": 42,
     "status": "ok",
     "timestamp": 1651080161278,
     "user": {
      "displayName": "kosala maduwantha",
      "userId": "16970053107414468093"
     },
     "user_tz": -330
    },
    "id": "0_cHMgG1fVBN"
   },
   "outputs": [],
   "source": [
    "# seperating target variable and the features\n",
    "target = processed_data['class']\n",
    "df1 = processed_data.copy()\n",
    "df1 = df1.drop('class', axis =1)"
   ]
  },
  {
   "cell_type": "code",
   "execution_count": 18,
   "metadata": {
    "colab": {
     "base_uri": "https://localhost:8080/"
    },
    "executionInfo": {
     "elapsed": 43,
     "status": "ok",
     "timestamp": 1651080161281,
     "user": {
      "displayName": "kosala maduwantha",
      "userId": "16970053107414468093"
     },
     "user_tz": -330
    },
    "id": "dPR-2GpgfVBO",
    "outputId": "c449b2df-629a-4cc2-ac1a-a2f7db120c86"
   },
   "outputs": [
    {
     "data": {
      "text/plain": [
       "0      2.0\n",
       "1      1.0\n",
       "2      1.0\n",
       "3      1.0\n",
       "4      2.0\n",
       "      ... \n",
       "763    3.0\n",
       "764    4.0\n",
       "765    4.0\n",
       "766    4.0\n",
       "767    4.0\n",
       "Name: class, Length: 758, dtype: float64"
      ]
     },
     "execution_count": 18,
     "metadata": {},
     "output_type": "execute_result"
    }
   ],
   "source": [
    "target"
   ]
  },
  {
   "cell_type": "code",
   "execution_count": 19,
   "metadata": {
    "executionInfo": {
     "elapsed": 40,
     "status": "ok",
     "timestamp": 1651080161284,
     "user": {
      "displayName": "kosala maduwantha",
      "userId": "16970053107414468093"
     },
     "user_tz": -330
    },
    "id": "peQP6olLfVBO"
   },
   "outputs": [],
   "source": [
    "## defining the attributes\n",
    "x = df1 # get the data for x independant variables\n",
    "y = target # get the predictor or the dependant variable"
   ]
  },
  {
   "cell_type": "code",
   "execution_count": 20,
   "metadata": {
    "colab": {
     "base_uri": "https://localhost:8080/"
    },
    "executionInfo": {
     "elapsed": 40,
     "status": "ok",
     "timestamp": 1651080161286,
     "user": {
      "displayName": "kosala maduwantha",
      "userId": "16970053107414468093"
     },
     "user_tz": -330
    },
    "id": "TLCRlj6GfVBP",
    "outputId": "9999d994-c428-4da8-a3c5-ac5b237a0038"
   },
   "outputs": [
    {
     "name": "stdout",
     "output_type": "stream",
     "text": [
      "Training split input-  (530, 12)\n",
      "Testing split input-  (228, 12)\n"
     ]
    }
   ],
   "source": [
    "## splitting the dataset to training and testing \n",
    "# Splitting the data - 60:40 ratio\n",
    "X_train, X_test, y_train, y_test = train_test_split(x , y, test_size = 0.3, random_state = 42)\n",
    "print(\"Training split input- \", X_train.shape)\n",
    "print(\"Testing split input- \", X_test.shape)"
   ]
  },
  {
   "cell_type": "code",
   "execution_count": 21,
   "metadata": {
    "colab": {
     "base_uri": "https://localhost:8080/"
    },
    "executionInfo": {
     "elapsed": 2453,
     "status": "ok",
     "timestamp": 1651080163705,
     "user": {
      "displayName": "kosala maduwantha",
      "userId": "16970053107414468093"
     },
     "user_tz": -330
    },
    "id": "d2-fzgeBfVBP",
    "outputId": "f7219182-7429-4542-9ac1-9dbe19cf3a4f"
   },
   "outputs": [
    {
     "name": "stdout",
     "output_type": "stream",
     "text": [
      "Decision Tree Classifier Created\n"
     ]
    }
   ],
   "source": [
    "## Defining the decision tree algorithmdtree=DecisionTreeClassifier()\n",
    "gb = GradientBoostingClassifier(n_estimators=200,learning_rate=.1)\n",
    "gb.fit(X_train.values,y_train)\n",
    "print('Decision Tree Classifier Created')"
   ]
  },
  {
   "cell_type": "code",
   "execution_count": 22,
   "metadata": {
    "colab": {
     "base_uri": "https://localhost:8080/"
    },
    "executionInfo": {
     "elapsed": 31,
     "status": "ok",
     "timestamp": 1651080163706,
     "user": {
      "displayName": "kosala maduwantha",
      "userId": "16970053107414468093"
     },
     "user_tz": -330
    },
    "id": "1Bgr7eG-fVBQ",
    "outputId": "be1260bc-2d0d-4587-b4c6-3da232e13632"
   },
   "outputs": [
    {
     "name": "stdout",
     "output_type": "stream",
     "text": [
      "Classification report - \n",
      "               precision    recall  f1-score   support\n",
      "\n",
      "         1.0       0.98      0.98      0.98        49\n",
      "         2.0       0.99      0.99      0.99       123\n",
      "         3.0       1.00      1.00      1.00         7\n",
      "         4.0       1.00      1.00      1.00        49\n",
      "\n",
      "    accuracy                           0.99       228\n",
      "   macro avg       0.99      0.99      0.99       228\n",
      "weighted avg       0.99      0.99      0.99       228\n",
      "\n"
     ]
    }
   ],
   "source": [
    "## Predicting the values of test data\n",
    "y_pred = gb.predict(X_test.values)\n",
    "print(\"Classification report - \\n\", classification_report(y_test,y_pred))"
   ]
  },
  {
   "cell_type": "markdown",
   "metadata": {
    "id": "fBTs-WMQ6_xe"
   },
   "source": [
    "\n",
    "\n",
    "---\n",
    "### single row predicting\n",
    "\n",
    "\n",
    "---\n",
    "\n",
    "\n"
   ]
  },
  {
   "cell_type": "code",
   "execution_count": 23,
   "metadata": {
    "colab": {
     "base_uri": "https://localhost:8080/"
    },
    "executionInfo": {
     "elapsed": 28,
     "status": "ok",
     "timestamp": 1651080163707,
     "user": {
      "displayName": "kosala maduwantha",
      "userId": "16970053107414468093"
     },
     "user_tz": -330
    },
    "id": "czWnU3K97I4c",
    "outputId": "8be63bd8-5747-4513-845e-2032404e759c"
   },
   "outputs": [
    {
     "data": {
      "text/plain": [
       "array([3.])"
      ]
     },
     "execution_count": 23,
     "metadata": {},
     "output_type": "execute_result"
    }
   ],
   "source": [
    "person_01 = [50,0,45,132,65,150,100,0,0,0,0,0]\n",
    "arr = np.array(person_01)\n",
    "arr = arr.reshape(1,12)\n",
    "gb.predict(arr)"
   ]
  },
  {
   "cell_type": "markdown",
   "metadata": {
    "id": "B4lkanN9DcwU"
   },
   "source": [
    "\n",
    "\n",
    "---\n",
    "\n",
    "\n",
    "### model performance increasing if there are any issues\n",
    "\n",
    "\n",
    "---\n",
    "\n"
   ]
  },
  {
   "cell_type": "code",
   "execution_count": 24,
   "metadata": {
    "colab": {
     "base_uri": "https://localhost:8080/"
    },
    "executionInfo": {
     "elapsed": 24,
     "status": "ok",
     "timestamp": 1651080163708,
     "user": {
      "displayName": "kosala maduwantha",
      "userId": "16970053107414468093"
     },
     "user_tz": -330
    },
    "id": "wq_MA_J5fVBQ",
    "outputId": "00fad847-9e5f-49db-8992-1fe5b015790a"
   },
   "outputs": [
    {
     "name": "stdout",
     "output_type": "stream",
     "text": [
      "<class 'pandas.core.series.Series'>\n",
      "<class 'numpy.ndarray'>\n"
     ]
    }
   ],
   "source": [
    "print(type(y_test))\n",
    "print(type(y_pred))\n",
    "\n",
    "## convert y_test to numpy array\n",
    "y_test_n = y_test.to_numpy()"
   ]
  },
  {
   "cell_type": "code",
   "execution_count": 25,
   "metadata": {
    "executionInfo": {
     "elapsed": 22,
     "status": "ok",
     "timestamp": 1651080163709,
     "user": {
      "displayName": "kosala maduwantha",
      "userId": "16970053107414468093"
     },
     "user_tz": -330
    },
    "id": "vQaPdMc2fVBQ"
   },
   "outputs": [],
   "source": [
    "## importing confusion matrix library\n",
    "from sklearn.metrics import confusion_matrix"
   ]
  },
  {
   "cell_type": "code",
   "execution_count": 26,
   "metadata": {
    "colab": {
     "base_uri": "https://localhost:8080/"
    },
    "executionInfo": {
     "elapsed": 21,
     "status": "ok",
     "timestamp": 1651080163710,
     "user": {
      "displayName": "kosala maduwantha",
      "userId": "16970053107414468093"
     },
     "user_tz": -330
    },
    "id": "53lKLUDrfVBQ",
    "outputId": "153e2d5e-ed49-4a12-fef2-4b29308149de"
   },
   "outputs": [],
   "source": [
    "## printing the confusion matrix \n",
    "cm = confusion_matrix(y_test_n, y_pred, labels=[1, 2, 3, 4])"
   ]
  },
  {
   "cell_type": "code",
   "execution_count": 27,
   "metadata": {},
   "outputs": [],
   "source": [
    "cm_df = pd.DataFrame(cm,\n",
    "                     index = ['pool_01','pool_02','pool_03','pool_04'], \n",
    "                     columns = ['pool_01','pool_02','pool_03','pool_04'])"
   ]
  },
  {
   "cell_type": "code",
   "execution_count": 28,
   "metadata": {},
   "outputs": [
    {
     "data": {
      "image/png": "[encoded data removed]",
      "text/plain": [
       "<Figure size 500x400 with 2 Axes>"
      ]
     },
     "metadata": {},
     "output_type": "display_data"
    }
   ],
   "source": [
    "#Plotting the confusion matrix\n",
    "plt.figure(figsize=(5,4))\n",
    "sns.heatmap(cm_df, annot=True)\n",
    "plt.title('Confusion Matrix')\n",
    "plt.ylabel('Actal Values')\n",
    "plt.xlabel('Predicted Values')\n",
    "plt.show()"
   ]
  },
  {
   "cell_type": "markdown",
   "metadata": {
    "id": "v_JsiZ-GfVBR"
   },
   "source": [
    "\n",
    "\n",
    "---\n",
    "\n",
    "\n",
    "#### according to the confusion matrix results for the testing set \n",
    "only 2 has false positive predictions\n",
    "the results which gives in the accuracy of the model are correct accuracies\n",
    "\n",
    "\n",
    "---\n",
    "\n"
   ]
  },
  {
   "cell_type": "markdown",
   "metadata": {
    "id": "VRzsXvaofVBS"
   },
   "source": []
  },
  {
   "cell_type": "markdown",
   "metadata": {
    "id": "1oDcd38_DvYh"
   },
   "source": [
    "\n",
    "\n",
    "---\n",
    "dumping the created model\n",
    "\n",
    "\n",
    "---\n",
    "\n",
    "\n"
   ]
  },
  {
   "cell_type": "code",
   "execution_count": 29,
   "metadata": {},
   "outputs": [],
   "source": [
    "import os"
   ]
  },
  {
   "cell_type": "code",
   "execution_count": 30,
   "metadata": {},
   "outputs": [
    {
     "data": {
      "text/plain": [
       "'/home/kosala/git-repos/physical_activity_routine_creation_module/hexagonal-flask-app/ML_models'"
      ]
     },
     "execution_count": 30,
     "metadata": {},
     "output_type": "execute_result"
    }
   ],
   "source": [
    "os.getcwd()"
   ]
  },
  {
   "cell_type": "code",
   "execution_count": 31,
   "metadata": {
    "colab": {
     "base_uri": "https://localhost:8080/"
    },
    "executionInfo": {
     "elapsed": 656,
     "status": "ok",
     "timestamp": 1651080979882,
     "user": {
      "displayName": "kosala maduwantha",
      "userId": "16970053107414468093"
     },
     "user_tz": -330
    },
    "id": "KauPpcMCD1Oo",
    "outputId": "1a6a84d3-649e-4b96-9771-ee3b8ff4a491"
   },
   "outputs": [
    {
     "data": {
      "text/plain": [
       "array([3.])"
      ]
     },
     "execution_count": 31,
     "metadata": {},
     "output_type": "execute_result"
    }
   ],
   "source": [
    "\n",
    "import pickle\n",
    "path_to_model = os.path.join(\"../ML_models/model.pkl\")\n",
    "# Save the trained model as a pickle string.\n",
    "pickle.dump(gb, open(path_to_model, 'wb'))\n",
    " \n",
    "# Load the pickled model\n",
    "pickled_model = pickle.load(open(path_to_model, 'rb'))\n",
    " \n",
    "# Use the loaded pickled model to make predictions\n",
    "pickled_model.predict(arr)"
   ]
  }
 ],
 "metadata": {
  "colab": {
   "collapsed_sections": [],
   "name": "Gradient boost.ipynb",
   "provenance": []
  },
  "kernelspec": {
   "display_name": "env",
   "language": "python",
   "name": "python3"
  },
  "language_info": {
   "codemirror_mode": {
    "name": "ipython",
    "version": 3
   },
   "file_extension": ".py",
   "mimetype": "text/x-python",
   "name": "python",
   "nbconvert_exporter": "python",
   "pygments_lexer": "ipython3",
   "version": "3.13.0"
  },
  "orig_nbformat": 4
 },
 "nbformat": 4,
 "nbformat_minor": 0
}
